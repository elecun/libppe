{
 "cells": [
  {
   "cell_type": "code",
   "execution_count": 1,
   "metadata": {},
   "outputs": [],
   "source": [
    "'''\n",
    "Reference Wafer Marker Pose Accuracy Test \n",
    "'''\n",
    "import cv2\n",
    "import numpy as np\n",
    "import matplotlib.pyplot as plt\n",
    "from cv2 import COLOR_RGB2GRAY"
   ]
  },
  {
   "cell_type": "code",
   "execution_count": 3,
   "metadata": {},
   "outputs": [
    {
     "name": "stdout",
     "output_type": "stream",
     "text": [
      "low resolution video info : (0.0,0.0@0.0)\n",
      "high resolution video info : (0.0,0.0@0.0)\n"
     ]
    },
    {
     "name": "stderr",
     "output_type": "stream",
     "text": [
      "[ WARN:0@461.552] global /private/var/folders/sy/f16zz6x50xz3113nwtb9bvq00000gp/T/abs_506zufg7xt/croots/recipe/opencv-suite_1664548331847/work/modules/videoio/src/cap_gstreamer.cpp (862) isPipelinePlaying OpenCV | GStreamer warning: GStreamer: pipeline have not been created\n",
      "[ERROR:0@461.552] global /private/var/folders/sy/f16zz6x50xz3113nwtb9bvq00000gp/T/abs_506zufg7xt/croots/recipe/opencv-suite_1664548331847/work/modules/videoio/src/cap.cpp (166) open VIDEOIO(GSTREAMER): raised OpenCV exception:\n",
      "\n",
      "OpenCV(4.6.0) /private/var/folders/sy/f16zz6x50xz3113nwtb9bvq00000gp/T/abs_506zufg7xt/croots/recipe/opencv-suite_1664548331847/work/modules/core/src/utils/filesystem.cpp:580: error: (-213:The function/feature is not implemented)  in function 'exists'\n",
      "\n",
      "\n",
      "OpenCV: Couldn't read video stream from file \"./data/100_1280_960.avi\"\n",
      "[ERROR:0@461.554] global /private/var/folders/sy/f16zz6x50xz3113nwtb9bvq00000gp/T/abs_506zufg7xt/croots/recipe/opencv-suite_1664548331847/work/modules/videoio/src/cap.cpp (166) open VIDEOIO(CV_IMAGES): raised OpenCV exception:\n",
      "\n",
      "OpenCV(4.6.0) /private/var/folders/sy/f16zz6x50xz3113nwtb9bvq00000gp/T/abs_506zufg7xt/croots/recipe/opencv-suite_1664548331847/work/modules/core/src/utils/filesystem.cpp:580: error: (-213:The function/feature is not implemented)  in function 'exists'\n",
      "\n",
      "\n",
      "[ WARN:0@461.555] global /private/var/folders/sy/f16zz6x50xz3113nwtb9bvq00000gp/T/abs_506zufg7xt/croots/recipe/opencv-suite_1664548331847/work/modules/videoio/src/cap_gstreamer.cpp (862) isPipelinePlaying OpenCV | GStreamer warning: GStreamer: pipeline have not been created\n",
      "[ERROR:0@461.555] global /private/var/folders/sy/f16zz6x50xz3113nwtb9bvq00000gp/T/abs_506zufg7xt/croots/recipe/opencv-suite_1664548331847/work/modules/videoio/src/cap.cpp (166) open VIDEOIO(GSTREAMER): raised OpenCV exception:\n",
      "\n",
      "OpenCV(4.6.0) /private/var/folders/sy/f16zz6x50xz3113nwtb9bvq00000gp/T/abs_506zufg7xt/croots/recipe/opencv-suite_1664548331847/work/modules/core/src/utils/filesystem.cpp:580: error: (-213:The function/feature is not implemented)  in function 'exists'\n",
      "\n",
      "\n",
      "OpenCV: Couldn't read video stream from file \"./data/100_1600_1200.avi\"\n",
      "[ERROR:0@461.556] global /private/var/folders/sy/f16zz6x50xz3113nwtb9bvq00000gp/T/abs_506zufg7xt/croots/recipe/opencv-suite_1664548331847/work/modules/videoio/src/cap.cpp (166) open VIDEOIO(CV_IMAGES): raised OpenCV exception:\n",
      "\n",
      "OpenCV(4.6.0) /private/var/folders/sy/f16zz6x50xz3113nwtb9bvq00000gp/T/abs_506zufg7xt/croots/recipe/opencv-suite_1664548331847/work/modules/core/src/utils/filesystem.cpp:580: error: (-213:The function/feature is not implemented)  in function 'exists'\n",
      "\n",
      "\n"
     ]
    },
    {
     "ename": "error",
     "evalue": "OpenCV(4.6.0) :-1: error: (-5:Bad argument) in function 'getOptimalNewCameraMatrix'\n> Overload resolution failed:\n>  - Can't parse 'imageSize'. Sequence item with index 0 has a wrong type\n>  - Can't parse 'imageSize'. Sequence item with index 0 has a wrong type\n",
     "output_type": "error",
     "traceback": [
      "\u001b[0;31m---------------------------------------------------------------------------\u001b[0m",
      "\u001b[0;31merror\u001b[0m                                     Traceback (most recent call last)",
      "Cell \u001b[0;32mIn[3], line 16\u001b[0m\n\u001b[1;32m     14\u001b[0m mtx \u001b[39m=\u001b[39m np\u001b[39m.\u001b[39mmatrix([[\u001b[39m2517.792\u001b[39m, \u001b[39m0.\u001b[39m, \u001b[39m814.045\u001b[39m],[\u001b[39m0.\u001b[39m, \u001b[39m2514.767\u001b[39m, \u001b[39m567.330\u001b[39m],[\u001b[39m0.\u001b[39m, \u001b[39m0.\u001b[39m, \u001b[39m1.\u001b[39m]])\n\u001b[1;32m     15\u001b[0m dist \u001b[39m=\u001b[39m np\u001b[39m.\u001b[39mmatrix([[\u001b[39m-\u001b[39m\u001b[39m0.361044\u001b[39m, \u001b[39m0.154482\u001b[39m, \u001b[39m0.000808\u001b[39m, \u001b[39m0.000033\u001b[39m, \u001b[39m0.\u001b[39m]])\n\u001b[0;32m---> 16\u001b[0m newcameramtx, roi \u001b[39m=\u001b[39m cv2\u001b[39m.\u001b[39;49mgetOptimalNewCameraMatrix(mtx,dist,(w_low,h_low),\u001b[39m0\u001b[39;49m,(w_low,h_low))\n\u001b[1;32m     18\u001b[0m markerdict \u001b[39m=\u001b[39m cv2\u001b[39m.\u001b[39maruco\u001b[39m.\u001b[39mDictionary_get(cv2\u001b[39m.\u001b[39maruco\u001b[39m.\u001b[39mDICT_4X4_250)\n\u001b[1;32m     19\u001b[0m markerparams \u001b[39m=\u001b[39m cv2\u001b[39m.\u001b[39maruco\u001b[39m.\u001b[39mDetectorParameters_create()\n",
      "\u001b[0;31merror\u001b[0m: OpenCV(4.6.0) :-1: error: (-5:Bad argument) in function 'getOptimalNewCameraMatrix'\n> Overload resolution failed:\n>  - Can't parse 'imageSize'. Sequence item with index 0 has a wrong type\n>  - Can't parse 'imageSize'. Sequence item with index 0 has a wrong type\n"
     ]
    }
   ],
   "source": [
    "video_low = cv2.VideoCapture('./data/100_1280_960.avi')\n",
    "video_high = cv2.VideoCapture('./data/100_1600_1200.avi')\n",
    "\n",
    "w_low  = video_low.get(cv2.CAP_PROP_FRAME_WIDTH)\n",
    "h_low = video_low.get(cv2.CAP_PROP_FRAME_HEIGHT)\n",
    "fps_low = video_low.get(cv2.CAP_PROP_FPS)\n",
    "print(\"low resolution video info : ({},{}@{})\".format(w_low, h_low, fps_low))\n",
    "\n",
    "w_high  = video_low.get(cv2.CAP_PROP_FRAME_WIDTH)\n",
    "h_high = video_low.get(cv2.CAP_PROP_FRAME_HEIGHT)\n",
    "fps_high = video_low.get(cv2.CAP_PROP_FPS)\n",
    "print(\"high resolution video info : ({},{}@{})\".format(w_high, h_high, fps_high))\n",
    "\n",
    "mtx = np.matrix([[2517.792, 0., 814.045],[0., 2514.767, 567.330],[0., 0., 1.]])\n",
    "dist = np.matrix([[-0.361044, 0.154482, 0.000808, 0.000033, 0.]])\n",
    "newcameramtx, roi = cv2.getOptimalNewCameraMatrix(mtx,dist,(w_low,h_low),0,(w_low,h_low))\n",
    "\n",
    "markerdict = cv2.aruco.Dictionary_get(cv2.aruco.DICT_4X4_250)\n",
    "markerparams = cv2.aruco.DetectorParameters_create()\n",
    "\n"
   ]
  },
  {
   "cell_type": "code",
   "execution_count": null,
   "metadata": {},
   "outputs": [],
   "source": [
    "# for video-1 (1280_960 resolution)\n",
    "while(video_low.isOpened()):\n",
    "    ret, frame = video_low.read()\n",
    "    gray = cv2.cvtColor(frame, cv2.COLOR_BGR2GRAY)\n",
    "    gray = cv2.undistort(gray, mtx, dist, None, newcameramtx)\n",
    "    \n",
    "    plt.clf()\n",
    "    plt.imshow(target_source)\n",
    "    plt.show()\n",
    "\n",
    "    if cv2.waitKey(1) & 0xFF == ord('q'):\n",
    "        break\n",
    "cap.release()\n",
    "cv2.destroyAllWindows()"
   ]
  }
 ],
 "metadata": {
  "kernelspec": {
   "display_name": "ppe",
   "language": "python",
   "name": "python3"
  },
  "language_info": {
   "codemirror_mode": {
    "name": "ipython",
    "version": 3
   },
   "file_extension": ".py",
   "mimetype": "text/x-python",
   "name": "python",
   "nbconvert_exporter": "python",
   "pygments_lexer": "ipython3",
   "version": "3.9.15"
  },
  "orig_nbformat": 4,
  "vscode": {
   "interpreter": {
    "hash": "2f837a2571c6d6b5c49349ab0787e85fddf1fcb25b1206285488f0dd577fb3ee"
   }
  }
 },
 "nbformat": 4,
 "nbformat_minor": 2
}
