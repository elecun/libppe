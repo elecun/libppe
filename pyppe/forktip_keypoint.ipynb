{
 "cells": [
  {
   "cell_type": "code",
   "execution_count": null,
   "metadata": {},
   "outputs": [],
   "source": [
    "'''\n",
    "Fork-tip key point detection with Mask R-CNN \n",
    "'''\n",
    "import cv2"
   ]
  }
 ],
 "metadata": {
  "kernelspec": {
   "display_name": "ppe",
   "language": "python",
   "name": "python3"
  },
  "language_info": {
   "name": "python",
   "version": "3.9.15 (main, Nov 24 2022, 08:29:02) \n[Clang 14.0.6 ]"
  },
  "orig_nbformat": 4,
  "vscode": {
   "interpreter": {
    "hash": "2f837a2571c6d6b5c49349ab0787e85fddf1fcb25b1206285488f0dd577fb3ee"
   }
  }
 },
 "nbformat": 4,
 "nbformat_minor": 2
}
