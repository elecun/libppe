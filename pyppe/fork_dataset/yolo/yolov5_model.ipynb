{
 "cells": [
  {
   "cell_type": "code",
   "execution_count": 2,
   "metadata": {},
   "outputs": [
    {
     "name": "stdout",
     "output_type": "stream",
     "text": [
      "MPS device on this machine for processing\n",
      "mps\n"
     ]
    }
   ],
   "source": [
    "import torch\n",
    "\n",
    "# check device to accelerate\n",
    "if not torch.backends.mps.is_available():\n",
    "    if not torch.backends.mps.is_built():\n",
    "        print(\"MPS not abilable because the current Pytorch install was not built with MPs enabled\")\n",
    "    else:\n",
    "        print(\"MPS not available because the current MacOS version is not 12.3+ and/or you do not have an MPS-enabled device on this machine\")\n",
    "    device = torch.device('cpu')\n",
    "    print(\"Use CPU device on this machine for processing\")\n",
    "else:\n",
    "    device = torch.device('mps')\n",
    "    print(\"MPS device on this machine for processing\")\n",
    "\n"
   ]
  },
  {
   "cell_type": "code",
   "execution_count": 4,
   "metadata": {},
   "outputs": [
    {
     "name": "stdout",
     "output_type": "stream",
     "text": [
      "{'train': './train/images', 'val': './valid/images', 'test': './test/images', 'nc': 1, 'names': ['tip']}\n"
     ]
    }
   ],
   "source": [
    "import yaml\n",
    "\n",
    "with open('./data.yaml') as f:\n",
    "    data = yaml.full_load(f)\n",
    "print(data)"
   ]
  }
 ],
 "metadata": {
  "kernelspec": {
   "display_name": "ppe",
   "language": "python",
   "name": "python3"
  },
  "language_info": {
   "codemirror_mode": {
    "name": "ipython",
    "version": 3
   },
   "file_extension": ".py",
   "mimetype": "text/x-python",
   "name": "python",
   "nbconvert_exporter": "python",
   "pygments_lexer": "ipython3",
   "version": "3.9.16"
  },
  "orig_nbformat": 4
 },
 "nbformat": 4,
 "nbformat_minor": 2
}
